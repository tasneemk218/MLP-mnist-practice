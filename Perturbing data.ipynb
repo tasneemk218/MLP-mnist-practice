{
 "cells": [
  {
   "cell_type": "code",
   "execution_count": 10,
   "id": "5e021279",
   "metadata": {},
   "outputs": [],
   "source": [
    "import torch\n",
    "import numpy as np\n",
    "\n",
    "\n",
    "def forward(sde, config, samples_batch, m):\n",
    "\n",
    "    tau = config.training.tau\n",
    "    z = torch.randn((len(samples_batch), 1, 1, 1)).to(samples_batch.device) * config.model.sigma_end\n",
    "    z = z.abs()\n",
    "    if config.training.restrict_M:\n",
    "        idx = (z < 0.005).squeeze()\n",
    "        num = int(idx.int().sum())\n",
    "        restrict_m = int(sde.M * 0.7)\n",
    "        m[idx] = torch.rand((num,), device=samples_batch.device) * restrict_m\n",
    "\n",
    "    data_dimensions = config.data.channels * config.data.image_size * config.data.image_size\n",
    "    multiplier = (1+tau) ** m\n",
    "\n",
    "    noise = torch.randn_like(samples_batch).reshape(len(samples_batch), -1) * config.model.sigma_end\n",
    "    norm_m = torch.norm(noise, p=2, dim=1) * multiplier\n",
    "   \n",
    "\n",
    "    perturbed_z = z.squeeze() * multiplier\n",
    "    \n",
    "    \n",
    "    gaussian = torch.randn(len(samples_batch), data_dim).to(samples_batch.device)\n",
    "    unit_gaussian = gaussian / torch.norm(gaussian, p=2, dim=1, keepdim=True)\n",
    "    \n",
    "    \n",
    "    perturbation_x = unit_gaussian * norm_m[:, None]\n",
    "    perturbation_x = perturbation_x.view_as(samples_batch)\n",
    "    \n",
    "    \n",
    "    perturbed_x = samples_batch + perturbation_x\n",
    "    \n",
    "    \n",
    "    perturbed_samples_vector_func = torch.cat((perturbed_x.reshape(len(samples_batch), -1),\n",
    "                                       perturbed_z[:, None]), dim=1)\n",
    "    return perturbed_samples_vector_func"
   ]
  },
  {
   "cell_type": "code",
   "execution_count": null,
   "id": "343ad8cd",
   "metadata": {},
   "outputs": [],
   "source": []
  }
 ],
 "metadata": {
  "kernelspec": {
   "display_name": "Python 3 (ipykernel)",
   "language": "python",
   "name": "python3"
  },
  "language_info": {
   "codemirror_mode": {
    "name": "ipython",
    "version": 3
   },
   "file_extension": ".py",
   "mimetype": "text/x-python",
   "name": "python",
   "nbconvert_exporter": "python",
   "pygments_lexer": "ipython3",
   "version": "3.9.13"
  }
 },
 "nbformat": 4,
 "nbformat_minor": 5
}
