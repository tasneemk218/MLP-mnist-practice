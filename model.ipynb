{
 "cells": [
  {
   "cell_type": "code",
   "execution_count": null,
   "id": "d4f154f0",
   "metadata": {},
   "outputs": [],
   "source": [
    "import torch\n",
    "import tensorflow as tf\n",
    "import os\n",
    "import logging\n",
    "\n",
    "\n",
    "def restore_checkpoint(ckpt_dir, state, device):\n",
    "  if not tf.io.gfile.exists(ckpt_dir):\n",
    "    tf.io.gfile.makedirs(os.path.dirname(ckpt_dir))\n",
    "    logging.warning(f\"No checkpoint found at {ckpt_dir}. \"\n",
    "                    f\"Returned the same state as input\")\n",
    "    return state\n",
    "  else:\n",
    "    loaded_state = torch.load(ckpt_dir, map_location=device)\n",
    "    state['optimizer'].load_state_dict(loaded_state['optimizer'])\n",
    "    state['model'].load_state_dict(loaded_state['model'], strict=False)\n",
    "    state['ema'].load_state_dict(loaded_state['ema'])\n",
    "    state['step'] = loaded_state['step']\n",
    "    return state\n",
    "\n",
    "\n",
    "def save_checkpoint(ckpt_dir, state):\n",
    "  saved_state = {\n",
    "    'optimizer': state['optimizer'].state_dict(),\n",
    "    'model': state['model'].state_dict(),\n",
    "    'ema': state['ema'].state_dict(),\n",
    "    'step': state['step']\n",
    "  }\n",
    "  torch.save(saved_state, ckpt_dir)\n"
   ]
  },
  {
   "cell_type": "code",
   "execution_count": null,
   "id": "944ce0ef",
   "metadata": {},
   "outputs": [],
   "source": []
  }
 ],
 "metadata": {
  "kernelspec": {
   "display_name": "Python 3 (ipykernel)",
   "language": "python",
   "name": "python3"
  },
  "language_info": {
   "codemirror_mode": {
    "name": "ipython",
    "version": 3
   },
   "file_extension": ".py",
   "mimetype": "text/x-python",
   "name": "python",
   "nbconvert_exporter": "python",
   "pygments_lexer": "ipython3",
   "version": "3.9.13"
  }
 },
 "nbformat": 4,
 "nbformat_minor": 5
}
